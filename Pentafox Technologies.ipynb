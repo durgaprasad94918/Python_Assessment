{
 "cells": [
  {
   "cell_type": "markdown",
   "id": "4cf76762",
   "metadata": {},
   "source": [
    "# Practise Exercises - Test on Logic Ability"
   ]
  },
  {
   "cell_type": "markdown",
   "id": "9eca1456",
   "metadata": {},
   "source": [
    "Problem1"
   ]
  },
  {
   "cell_type": "code",
   "execution_count": 114,
   "id": "35bd60a5",
   "metadata": {},
   "outputs": [
    {
     "name": "stdout",
     "output_type": "stream",
     "text": [
      "enter no.of rounds5\n",
      "109.96 KMs travelled\n"
     ]
    }
   ],
   "source": [
    "import math\n",
    "n= int(input('enter no.of rounds'))\n",
    "path_length=7 #diameter = 2r\n",
    "#circumference=2*pi*r\n",
    "ans= (math.pi) * n * (path_length)\n",
    "print(round(ans,2),\"KMs travelled\")"
   ]
  },
  {
   "cell_type": "code",
   "execution_count": null,
   "id": "4e959fce",
   "metadata": {},
   "outputs": [],
   "source": []
  },
  {
   "cell_type": "markdown",
   "id": "af6c0f92",
   "metadata": {},
   "source": [
    "Problem2"
   ]
  },
  {
   "cell_type": "code",
   "execution_count": 75,
   "id": "ac9d0149",
   "metadata": {},
   "outputs": [
    {
     "name": "stdout",
     "output_type": "stream",
     "text": [
      "1,2,3,4,5,6,7,6,5,4,3,2\n",
      "8\n",
      "[(1, 7), (2, 6), (2, 6), (3, 5), (3, 5), (4, 4)]\n"
     ]
    }
   ],
   "source": [
    "# Function to find all pairs with given sum\n",
    "def pairs(arr,s):\n",
    "    lst=[]\n",
    "    arr.sort() #sorting the given array\n",
    "    i=0\n",
    "    j=len(arr)-1\n",
    "    while i < j:\n",
    "        if arr[i]+arr[j]==s:\n",
    "            lst.append((arr[i],arr[j]))\n",
    "        if arr[i]+arr[j] > s:\n",
    "            j-=1\n",
    "        else:\n",
    "            i+=1\n",
    "    if len(lst) == 0:\n",
    "        return \"No Pairs found\"\n",
    "    else:\n",
    "        return lst\n",
    "    \n",
    "    \n",
    "#taking inputs\n",
    "#provide comma sepetared integer values\n",
    "arr=[int(x) for x in input().split(',')]\n",
    "#provide required sum\n",
    "s=int(input())\n",
    "\n",
    "# function call\n",
    "ans=pairs(arr,s)\n",
    "print(ans)"
   ]
  },
  {
   "cell_type": "code",
   "execution_count": null,
   "id": "dbb607db",
   "metadata": {},
   "outputs": [],
   "source": []
  },
  {
   "cell_type": "markdown",
   "id": "c6434fb6",
   "metadata": {},
   "source": [
    "Problem 3"
   ]
  },
  {
   "cell_type": "code",
   "execution_count": 76,
   "id": "cbb393a4",
   "metadata": {},
   "outputs": [
    {
     "name": "stdout",
     "output_type": "stream",
     "text": [
      "uyrteg\n",
      "dgetryu\n"
     ]
    }
   ],
   "source": [
    "#importing string and random modules to generate random charcter\n",
    "import string\n",
    "import random\n",
    "\n",
    "#function encoder takes string as input and gives encoded string\n",
    "def encoder(s):\n",
    "    ch = random.choice(string.ascii_letters)\n",
    "    return (ch+s[::-1])\n",
    "\n",
    "#taking inputs(provide string)\n",
    "st=input()\n",
    "\n",
    "#function call\n",
    "ans=encoder(st)\n",
    "print(ans)\n",
    "    \n",
    "    \n",
    "    "
   ]
  },
  {
   "cell_type": "code",
   "execution_count": null,
   "id": "00514770",
   "metadata": {},
   "outputs": [],
   "source": []
  },
  {
   "cell_type": "markdown",
   "id": "ba92a1bd",
   "metadata": {},
   "source": [
    "Problem 4"
   ]
  },
  {
   "cell_type": "code",
   "execution_count": 72,
   "id": "010db166",
   "metadata": {},
   "outputs": [
    {
     "name": "stdout",
     "output_type": "stream",
     "text": [
      "all is well\n",
      "al2 is wel2\n"
     ]
    }
   ],
   "source": [
    "#function compress to compress no.of characters\n",
    "def compress(s):\n",
    "    out=''\n",
    "    i=0\n",
    "    while i < len(s):\n",
    "        count=1\n",
    "        for j in range(i+1,len(s)):\n",
    "            if (s[i]==s[j]):\n",
    "                count+=1\n",
    "            else:\n",
    "                break\n",
    "        if count > 1:\n",
    "            out=out+s[i]+str(count)\n",
    "        else:\n",
    "            out=out+s[i]\n",
    "        i=i+count\n",
    "    return(out)\n",
    "\n",
    "\n",
    "#taking inputs(provide string)\n",
    "st=input()\n",
    "\n",
    "#function call\n",
    "ans=compress(st)\n",
    "print(ans)\n",
    "        "
   ]
  },
  {
   "cell_type": "code",
   "execution_count": null,
   "id": "5007eac8",
   "metadata": {},
   "outputs": [],
   "source": []
  },
  {
   "cell_type": "markdown",
   "id": "7a6ed84b",
   "metadata": {},
   "source": [
    "Problem 5"
   ]
  },
  {
   "cell_type": "code",
   "execution_count": 89,
   "id": "4c4ad436",
   "metadata": {},
   "outputs": [
    {
     "name": "stdout",
     "output_type": "stream",
     "text": [
      "Rajesh\n",
      "Ganesh\n",
      "RjGn\n"
     ]
    }
   ],
   "source": [
    "#function to find non repeating chars\n",
    "def non_repeating(s):\n",
    "    freq={}\n",
    "    for ch in word:\n",
    "        if ch not in freq:\n",
    "            freq[ch]=1\n",
    "        else:\n",
    "            freq[ch]+=1\n",
    "    a=[k for k,v in freq.items() if v==1]\n",
    "    return(''.join(a))\n",
    "\n",
    "#taking inputs(provide strings)\n",
    "word1=input()\n",
    "word2=input()\n",
    "word=word1+word2\n",
    "ans=non_repeating(word)   \n",
    "print(ans)"
   ]
  },
  {
   "cell_type": "code",
   "execution_count": null,
   "id": "6adbbe96",
   "metadata": {},
   "outputs": [],
   "source": []
  },
  {
   "cell_type": "markdown",
   "id": "6073c9f7",
   "metadata": {},
   "source": [
    "Problem 7"
   ]
  },
  {
   "cell_type": "code",
   "execution_count": 93,
   "id": "5a144941",
   "metadata": {},
   "outputs": [
    {
     "name": "stdout",
     "output_type": "stream",
     "text": [
      "3,4,5,67,8,9\n",
      "CDEHI\n"
     ]
    }
   ],
   "source": [
    "#function to represent numbers 1-26 as characters A-Z\n",
    "def alphabet_seq(arr):\n",
    "    out=''\n",
    "    for ch in arr:\n",
    "        if 1<=ch<=26:\n",
    "            out = out + chr(ch+64)\n",
    "    return out\n",
    "\n",
    "#taking inputs\n",
    "#provide comma sepetared integer values\n",
    "arr=[int(x) for x in input().split(',')]\n",
    "\n",
    "#function call\n",
    "ans=alphabet_seq(arr)\n",
    "print(ans)\n",
    "        \n",
    "\n"
   ]
  },
  {
   "cell_type": "code",
   "execution_count": null,
   "id": "be741767",
   "metadata": {},
   "outputs": [],
   "source": []
  },
  {
   "cell_type": "markdown",
   "id": "8b5f73e7",
   "metadata": {},
   "source": [
    "Problem 6"
   ]
  },
  {
   "cell_type": "code",
   "execution_count": 110,
   "id": "98075b91",
   "metadata": {},
   "outputs": [
    {
     "name": "stdout",
     "output_type": "stream",
     "text": [
      "Time table for day1\n",
      "[('hour1', 'subject1'), ('hour2', 'subject2'), ('hour3', 'subject3'), ('hour4', 'subject4'), ('hour5', 'subject5')]\n",
      "Time table for day2\n",
      "[('hour1', 'subject2'), ('hour2', 'subject1'), ('hour3', 'subject4'), ('hour4', 'subject3'), ('hour5', 'subject5')]\n",
      "Time table for day3\n",
      "[('hour1', 'subject4'), ('hour2', 'subject5'), ('hour3', 'subject1'), ('hour4', 'subject2'), ('hour5', 'subject3')]\n",
      "Time table for day4\n",
      "[('hour1', 'subject3'), ('hour2', 'subject2'), ('hour3', 'subject1'), ('hour4', 'subject5'), ('hour5', 'subject4')]\n",
      "Time table for day5\n",
      "[('hour1', 'subject4'), ('hour2', 'subject2'), ('hour3', 'subject3'), ('hour4', 'subject1'), ('hour5', 'subject5')]\n"
     ]
    }
   ],
   "source": [
    "#importing random module\n",
    "import random\n",
    "\n",
    "#input subjects,hours,days \n",
    "subjects=['subject1','subject2','subject3','subject4','subject5']\n",
    "hours=['hour1','hour2','hour3','hour4','hour5']\n",
    "days=['day1','day2','day3','day4','day5']\n",
    "\n",
    "#shuffling and printing\n",
    "for i in range(len(days)):\n",
    "    print(\"Time table for\",days[i])\n",
    "    print(list(zip(hours,subjects)))\n",
    "    random.shuffle(subjects)\n",
    "\n",
    "\n"
   ]
  },
  {
   "cell_type": "code",
   "execution_count": 101,
   "id": "8d51dad5",
   "metadata": {},
   "outputs": [],
   "source": []
  },
  {
   "cell_type": "markdown",
   "id": "d4d0da6b",
   "metadata": {},
   "source": [
    "Problem 8"
   ]
  },
  {
   "cell_type": "code",
   "execution_count": null,
   "id": "7175f34b",
   "metadata": {},
   "outputs": [],
   "source": [
    "#installing \n",
    "!pip install flask\n",
    "!pip install flask-sqlalchemy"
   ]
  },
  {
   "cell_type": "code",
   "execution_count": null,
   "id": "50bd4f65",
   "metadata": {},
   "outputs": [],
   "source": [
    "# importing libraries\n",
    "from flask import Flask, request, Response, jsonify\n",
    "from settings import *\n",
    "import json"
   ]
  },
  {
   "cell_type": "code",
   "execution_count": null,
   "id": "07db8995",
   "metadata": {},
   "outputs": [],
   "source": [
    "# creating an instance of the flask app\n",
    "app = Flask(__name__)"
   ]
  },
  {
   "cell_type": "code",
   "execution_count": null,
   "id": "b8846cff",
   "metadata": {},
   "outputs": [],
   "source": [
    "app.config['SQLALCHEMY_DATABASE_URI'] = 'sqlite:///database.db'\n",
    "app.config['SQLALCHEMY_TRACK_MODIFICATIONS'] = False\n",
    "db = SQLAlchemy(app)"
   ]
  },
  {
   "cell_type": "code",
   "execution_count": null,
   "id": "23f901fa",
   "metadata": {},
   "outputs": [],
   "source": [
    "class Movie(db.Model):\n",
    "    __tablename__ = 'movies'  # creating a table name\n",
    "    id = db.Column(db.Integer, primary_key=True)  # this is the primary key\n",
    "    title = db.Column(db.String(80), nullable=False)\n",
    "    # nullable is false so the column can't be empty\n",
    "    year = db.Column(db.Integer, nullable=False)\n",
    "    genre = db.Column(db.String(80), nullable=False)"
   ]
  },
  {
   "cell_type": "code",
   "execution_count": null,
   "id": "1dbb22eb",
   "metadata": {},
   "outputs": [],
   "source": [
    "def json(self):\n",
    "        return {'id': self.id, 'title': self.title,\n",
    "                'year': self.year, 'genre': self.genre}"
   ]
  },
  {
   "cell_type": "code",
   "execution_count": null,
   "id": "b20bb3e5",
   "metadata": {},
   "outputs": [],
   "source": [
    "def add_movie(_title, _year, _genre):\n",
    "    '''function to add movie to database using _title, _year, _genre\n",
    "    as parameters'''\n",
    "    # creating an instance of our Movie constructor\n",
    "    new_movie = Movie(title=_title, year=_year, genre=_genre)\n",
    "    db.session.add(new_movie)  # add new movie to database session\n",
    "    db.session.commit()  # commit changes to session"
   ]
  },
  {
   "cell_type": "code",
   "execution_count": null,
   "id": "6f3660b3",
   "metadata": {},
   "outputs": [],
   "source": [
    "def get_all_movies():\n",
    "    '''function to get all movies in our database'''\n",
    "    return [Movie.json(movie) for movie in Movie.query.all()]"
   ]
  },
  {
   "cell_type": "code",
   "execution_count": null,
   "id": "2f1414b1",
   "metadata": {},
   "outputs": [],
   "source": [
    "def get_movie(_id):\n",
    "    '''function to get movie using the id of the movie as parameter'''\n",
    "    return [Movie.json(Movie.query.filter_by(id=_id).first())]\n",
    "    # Movie.json() coverts our output to the json format defined earlier\n",
    "    # the filter_by method filters the query by the id\n",
    "    # since our id is unique we will only get one result\n",
    "    # the .first() method will get that first value returned"
   ]
  },
  {
   "cell_type": "code",
   "execution_count": null,
   "id": "b51fdd28",
   "metadata": {},
   "outputs": [],
   "source": [
    "def update_movie(_id, _title, _year, _genre):\n",
    "    '''function to update the details of a movie using the id, title,\n",
    "    year and genre as parameters'''\n",
    "    movie_to_update = Movie.query.filter_by(id=_id).first()\n",
    "    movie_to_update.title = _title\n",
    "    movie_to_update.year = _year\n",
    "    movie_to_update.genre = _genre\n",
    "    db.session.commit()"
   ]
  },
  {
   "cell_type": "code",
   "execution_count": null,
   "id": "d7a8e50d",
   "metadata": {},
   "outputs": [],
   "source": [
    "def delete_movie(_id):\n",
    "    '''function to delete a movie from our database using\n",
    "    the id of the movie as a parameter'''\n",
    "    Movie.query.filter_by(id=_id).delete()\n",
    "    # filter movie by id and delete\n",
    "    db.session.commit()  "
   ]
  },
  {
   "cell_type": "code",
   "execution_count": null,
   "id": "164f00b8",
   "metadata": {},
   "outputs": [],
   "source": [
    "from movies import *"
   ]
  },
  {
   "cell_type": "code",
   "execution_count": null,
   "id": "15782c5b",
   "metadata": {},
   "outputs": [],
   "source": [
    "# route to get all movies\n",
    "@app.route('/movies', methods=['GET'])\n",
    "def get_movies():\n",
    "    '''Function to get all the movies in the database'''\n",
    "    return jsonify({'Movies': Movie.get_all_movies()})"
   ]
  },
  {
   "cell_type": "code",
   "execution_count": null,
   "id": "de7ca47a",
   "metadata": {},
   "outputs": [],
   "source": [
    "# route to get movie by id\n",
    "@app.route('/movies/<int:id>', methods=['GET'])\n",
    "def get_movie_by_id(id):\n",
    "    return_value = Movie.get_movie(id)\n",
    "    return jsonify(return_value)"
   ]
  },
  {
   "cell_type": "code",
   "execution_count": null,
   "id": "bbcd80b0",
   "metadata": {},
   "outputs": [],
   "source": [
    "# route to add new movie\n",
    "@app.route('/movies', methods=['POST'])\n",
    "def add_movie():\n",
    "    '''Function to add new movie to our database'''\n",
    "    request_data = request.get_json()  # getting data from client\n",
    "    Movie.add_movie(request_data[\"title\"], request_data[\"year\"],\n",
    "                    request_data[\"genre\"])\n",
    "    response = Response(\"Movie added\", 201, mimetype='application/json')\n",
    "    return response"
   ]
  },
  {
   "cell_type": "code",
   "execution_count": null,
   "id": "5eeab1ff",
   "metadata": {},
   "outputs": [],
   "source": [
    "# route to update movie with PUT method\n",
    "@app.route('/movies/<int:id>', methods=['PUT'])\n",
    "def update_movie(id):\n",
    "    '''Function to edit movie in our database using movie id'''\n",
    "    request_data = request.get_json()\n",
    "    Movie.update_movie(id, request_data['title'], request_data['year'],                                      request_data['genre'])\n",
    "    response = Response(\"Movie Updated\", status=200, mimetype='application/json')\n",
    "    return response"
   ]
  },
  {
   "cell_type": "code",
   "execution_count": null,
   "id": "3e2a52f4",
   "metadata": {},
   "outputs": [],
   "source": [
    "# route to delete movie using the DELETE method\n",
    "@app.route('/movies/<int:id>', methods=['DELETE'])\n",
    "def remove_movie(id):\n",
    "    '''Function to delete movie from our database'''\n",
    "    Movie.delete_movie(id)\n",
    "    response = Response(\"Movie Deleted\", status=200, mimetype='application/json')\n",
    "    return response\n",
    "\n",
    "if __name__ == \"__main__\":\n",
    "    app.run(port=1234, debug=True)"
   ]
  },
  {
   "cell_type": "code",
   "execution_count": null,
   "id": "4b14841d",
   "metadata": {},
   "outputs": [],
   "source": []
  },
  {
   "cell_type": "code",
   "execution_count": null,
   "id": "5e152449",
   "metadata": {},
   "outputs": [],
   "source": []
  }
 ],
 "metadata": {
  "kernelspec": {
   "display_name": "Python 3 (ipykernel)",
   "language": "python",
   "name": "python3"
  },
  "language_info": {
   "codemirror_mode": {
    "name": "ipython",
    "version": 3
   },
   "file_extension": ".py",
   "mimetype": "text/x-python",
   "name": "python",
   "nbconvert_exporter": "python",
   "pygments_lexer": "ipython3",
   "version": "3.9.6"
  }
 },
 "nbformat": 4,
 "nbformat_minor": 5
}
